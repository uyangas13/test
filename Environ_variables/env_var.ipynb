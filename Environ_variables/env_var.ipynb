{
 "cells": [
  {
   "cell_type": "markdown",
   "metadata": {},
   "source": [
    "# Predict Spotify popularity"
   ]
  },
  {
   "cell_type": "code",
   "execution_count": 1,
   "metadata": {},
   "outputs": [],
   "source": [
    "import pandas as pd\n",
    "import pickle\n",
    "import os"
   ]
  },
  {
   "cell_type": "code",
   "execution_count": 2,
   "metadata": {},
   "outputs": [],
   "source": [
    "def load_data():\n",
    "    DATA_PATH = os.getenv('DATA_DIR')\n",
    "    spotify_df = pd.read_csv(os.path.join(DATA_PATH, 'Spotify/spotify_songs.csv'))\n",
    "    \n",
    "    X_columns = ['playlist_genre', 'danceability', 'energy', 'key', 'loudness', 'mode', 'speechiness',\n",
    "        'acousticness', 'instrumentalness', 'liveness', 'valence', 'tempo',\n",
    "        'duration_ms']\n",
    "    y_column = 'track_popularity'\n",
    "\n",
    "    X = spotify_df[X_columns]\n",
    "    y = spotify_df[y_column]\n",
    "    \n",
    "    print(\"Өгөгдлийг импортлосон\")\n",
    "    \n",
    "    return X, y"
   ]
  },
  {
   "cell_type": "code",
   "execution_count": 3,
   "metadata": {},
   "outputs": [],
   "source": [
    "def y_to_cat(y):\n",
    "    y = y.map(lambda x: 1 if x>=70 else 0)\n",
    "    \n",
    "    return y"
   ]
  },
  {
   "cell_type": "code",
   "execution_count": 4,
   "metadata": {},
   "outputs": [],
   "source": [
    "def train_test(X, y):\n",
    "    X_train, X_test, y_train, y_test = train_test_split(X, y, test_size=0.3, random_state=123)\n",
    "    print(\"Сургалтын Х-н хэмжээ:\", X_train.shape, \"у-н хэмжээ:\", y_train.shape)\n",
    "    print(\"Тестийн Х-н хэмжээ:\", X_test.shape, \"у-н хэмжээ:\", y_test.shape)\n",
    "    return X_train, X_test, y_train, y_test"
   ]
  },
  {
   "cell_type": "code",
   "execution_count": 5,
   "metadata": {},
   "outputs": [],
   "source": [
    "def scale_process_data():\n",
    "    from sklearn.preprocessing import MinMaxScaler, LabelEncoder\n",
    "    \n",
    "    X, y = load_data()\n",
    "    \n",
    "    X_train, X_test, y_train, y_test = train_test(X, y)\n",
    "    \n",
    "    num_columns = [col for col in X_train.columns if X_train[col].dtype in ['float','int']]\n",
    "    cat_columns = [col for col in X_train.columns if X_train[col].dtype not in ['float','int']]\n",
    "    \n",
    "    scaler = MinMaxScaler()\n",
    "    scaler.fit(X_train[num_columns])\n",
    "    X_train[num_columns] = scaler.transform(X_train[num_columns])\n",
    "    X_test[num_columns] = scaler.transform(X_test[num_columns])\n",
    "    \n",
    "    with open(os.path.join(os.getenv('MODEL_DIR'), 'scaler.pickle'), 'wb') as f:\n",
    "        pickle.dump(scaler, f)\n",
    "        \n",
    "    print(f\"{len(num_columns)} тоон хувьсагчийг хувиргав\")\n",
    "        \n",
    "    labelencoder = LabelEncoder()\n",
    "\n",
    "    for col in cat_columns:\n",
    "        labelencoder.fit(X_train[col])\n",
    "        X_train[col] = labelencoder.transform(X_train[col])\n",
    "        X_test[col] = labelencoder.transform(X_test[col])\n",
    "        encoder_name = 'labelencoder_'+col+\".pickle\"\n",
    "        \n",
    "        with open(os.path.join(os.getenv('MODEL_DIR'), encoder_name), 'wb') as f:\n",
    "            pickle.dump(labelencoder, f)\n",
    "            \n",
    "    print(f\"{len(cat_columns)} категори хувьсагчийг хувиргав\")\n",
    "            \n",
    "    y_train = y_to_cat(y_train)\n",
    "    y_test = y_to_cat(y_test)  \n",
    "    \n",
    "    return X_train, X_test, y_train, y_test"
   ]
  },
  {
   "cell_type": "code",
   "execution_count": 6,
   "metadata": {},
   "outputs": [],
   "source": [
    "def build_model(max_depth, min_samples_leaf, min_samples_split):\n",
    "    \n",
    "    model = RandomForestClassifier(random_state=123,\n",
    "                                   max_depth=max_depth, \n",
    "                                   min_samples_leaf=min_samples_leaf, \n",
    "                                   min_samples_split=min_samples_split)\n",
    "\n",
    "    return model"
   ]
  },
  {
   "cell_type": "code",
   "execution_count": 7,
   "metadata": {},
   "outputs": [],
   "source": [
    "def train_eval_model(model, data):\n",
    "    from sklearn.metrics import recall_score, precision_score, accuracy_score\n",
    "    \n",
    "    model.fit(data[0], data[2])\n",
    "    y_pred = model.predict(data[1])\n",
    "    \n",
    "    print(\"Recall score:\", recall_score(data[3], y_pred))\n",
    "    print(\"Precision score:\", precision_score(data[3], y_pred))\n",
    "    print(\"Accuracy score:\", accuracy_score(data[3], y_pred))\n",
    "    \n",
    "    return model "
   ]
  },
  {
   "cell_type": "code",
   "execution_count": 8,
   "metadata": {},
   "outputs": [],
   "source": [
    "def save_model(model):\n",
    "    with open(os.path.join(os.getenv('MODEL_DIR'), 'model.pickle'),'wb') as f:\n",
    "        pickle.dump(model, f)\n",
    "        \n",
    "    print(\"Model saved\")"
   ]
  },
  {
   "cell_type": "code",
   "execution_count": 11,
   "metadata": {},
   "outputs": [
    {
     "name": "stdout",
     "output_type": "stream",
     "text": [
      "Өгөгдлийг импортлосон\n",
      "Сургалтын Х-н хэмжээ: (22983, 13) у-н хэмжээ: (22983,)\n",
      "Тестийн Х-н хэмжээ: (9850, 13) у-н хэмжээ: (9850,)\n",
      "12 тоон хувьсагчийг хувиргав\n",
      "1 категори хувьсагчийг хувиргав\n",
      "Recall score: 0.4214586255259467\n",
      "Precision score: 0.9274691358024691\n",
      "Accuracy score: 0.9114720812182742\n",
      "Model saved\n"
     ]
    }
   ],
   "source": [
    "max_depth = int(os.getenv('MAX_DEPTH'))\n",
    "min_samples_leaf = int(os.getenv('MIN_SAMPLES_LEAF'))\n",
    "min_samples_split = int(os.getenv('MIN_SAMPLES_SPLIT'))\n",
    "\n",
    "data = scale_process_data()\n",
    "model = build_model(max_depth, min_samples_leaf, min_samples_split)\n",
    "model_trained = train_eval_model(model, data)\n",
    "save_model(model_trained)"
   ]
  },
  {
   "cell_type": "markdown",
   "metadata": {},
   "source": [
    "The end of the notebook"
   ]
  }
 ],
 "metadata": {
  "kernelspec": {
   "display_name": "testenv38",
   "language": "python",
   "name": "python3"
  },
  "language_info": {
   "codemirror_mode": {
    "name": "ipython",
    "version": 3
   },
   "file_extension": ".py",
   "mimetype": "text/x-python",
   "name": "python",
   "nbconvert_exporter": "python",
   "pygments_lexer": "ipython3",
   "version": "3.8.18"
  }
 },
 "nbformat": 4,
 "nbformat_minor": 2
}

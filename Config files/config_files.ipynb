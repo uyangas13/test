{
 "cells": [
  {
   "cell_type": "markdown",
   "metadata": {},
   "source": [
    "# Config files examples"
   ]
  },
  {
   "cell_type": "code",
   "execution_count": 42,
   "metadata": {},
   "outputs": [],
   "source": [
    "config_dict = {\n",
    "    \"data_dir\":\"./MLData\",\n",
    "    \"model_dir\":\"./MLModel\",\n",
    "    \"model_config\": {\n",
    "        \"max_depth\":30,\n",
    "        \"min_samples_leaf\":2,\n",
    "        \"min_samples_split\":3\n",
    "    }\n",
    "}"
   ]
  },
  {
   "cell_type": "markdown",
   "metadata": {},
   "source": [
    "### 1. `py` adn `txt`"
   ]
  },
  {
   "cell_type": "code",
   "execution_count": 43,
   "metadata": {},
   "outputs": [
    {
     "name": "stdout",
     "output_type": "stream",
     "text": [
      "Overwriting config.py\n"
     ]
    }
   ],
   "source": [
    "%%writefile config.py\n",
    "\n",
    "data_dir = \"./MLData\"\n",
    "model_dir = \"./MLModel\"\n",
    "max_depth = 30\n",
    "min_samples_leaf = 2\n",
    "min_samples_split = 3"
   ]
  },
  {
   "cell_type": "code",
   "execution_count": 44,
   "metadata": {},
   "outputs": [
    {
     "name": "stdout",
     "output_type": "stream",
     "text": [
      "Overwriting config.txt\n"
     ]
    }
   ],
   "source": [
    "%%writefile config.txt\n",
    "\n",
    "data_dir = \"./MLData\"\n",
    "model_dir = \"./MLModel\"\n",
    "max_depth = 30\n",
    "min_samples_leaf = 2\n",
    "min_samples_split = 3"
   ]
  },
  {
   "cell_type": "code",
   "execution_count": 45,
   "metadata": {},
   "outputs": [],
   "source": [
    "python_code=\"\"\"\n",
    "data_dir = \"./MLData\"\n",
    "model_dir = \"./MLModel\"\n",
    "max_depth = 30\n",
    "min_samples_leaf = 2\n",
    "min_samples_split = 3\n",
    "\"\"\"\n",
    "\n",
    "file_name = \"config2.py\"\n",
    "\n",
    "with open(file_name, 'w') as f:\n",
    "    f.write(python_code)"
   ]
  },
  {
   "cell_type": "code",
   "execution_count": 46,
   "metadata": {},
   "outputs": [],
   "source": [
    "python_code=\"\"\"\n",
    "data_dir = \"./MLData\"\n",
    "model_dir = \"./MLModel\"\n",
    "max_depth = 30\n",
    "min_samples_leaf = 2\n",
    "min_samples_split = 3\n",
    "\"\"\"\n",
    "\n",
    "file_name = \"config2.txt\"\n",
    "\n",
    "with open(file_name, 'w') as f:\n",
    "    f.write(python_code)"
   ]
  },
  {
   "cell_type": "markdown",
   "metadata": {},
   "source": [
    "### 2. `json`"
   ]
  },
  {
   "cell_type": "code",
   "execution_count": 47,
   "metadata": {},
   "outputs": [],
   "source": [
    "import json"
   ]
  },
  {
   "cell_type": "code",
   "execution_count": 48,
   "metadata": {},
   "outputs": [],
   "source": [
    "with open('config.json', 'w') as f:\n",
    "    json.dump(config_dict, f, indent=2)"
   ]
  },
  {
   "cell_type": "code",
   "execution_count": 49,
   "metadata": {},
   "outputs": [],
   "source": [
    "with open('config.json', 'r') as f:\n",
    "    config_json = json.load(f)"
   ]
  },
  {
   "cell_type": "code",
   "execution_count": 50,
   "metadata": {},
   "outputs": [
    {
     "data": {
      "text/plain": [
       "{'data_dir': './MLData',\n",
       " 'model_dir': './MLModel',\n",
       " 'model_config': {'max_depth': 30,\n",
       "  'min_samples_leaf': 2,\n",
       "  'min_samples_split': 3}}"
      ]
     },
     "execution_count": 50,
     "metadata": {},
     "output_type": "execute_result"
    }
   ],
   "source": [
    "config_json"
   ]
  },
  {
   "cell_type": "markdown",
   "metadata": {},
   "source": [
    "### 3. `yaml`"
   ]
  },
  {
   "cell_type": "code",
   "execution_count": 51,
   "metadata": {},
   "outputs": [
    {
     "name": "stdout",
     "output_type": "stream",
     "text": [
      "Requirement already satisfied: pyyaml in /Users/uyangas/anaconda3/envs/testenv38/lib/python3.8/site-packages (6.0.1)\n"
     ]
    }
   ],
   "source": [
    "!pip install pyyaml"
   ]
  },
  {
   "cell_type": "code",
   "execution_count": 52,
   "metadata": {},
   "outputs": [],
   "source": [
    "import yaml"
   ]
  },
  {
   "cell_type": "code",
   "execution_count": 53,
   "metadata": {},
   "outputs": [],
   "source": [
    "with open('config.yaml', 'w') as f:\n",
    "    yaml.dump(config_dict, f)"
   ]
  },
  {
   "cell_type": "code",
   "execution_count": 54,
   "metadata": {},
   "outputs": [],
   "source": [
    "with open('config.yaml', 'r') as f:\n",
    "    config_yaml = yaml.safe_load(f)"
   ]
  },
  {
   "cell_type": "code",
   "execution_count": 55,
   "metadata": {},
   "outputs": [
    {
     "data": {
      "text/plain": [
       "{'data_dir': './MLData',\n",
       " 'model_config': {'max_depth': 30,\n",
       "  'min_samples_leaf': 2,\n",
       "  'min_samples_split': 3},\n",
       " 'model_dir': './MLModel'}"
      ]
     },
     "execution_count": 55,
     "metadata": {},
     "output_type": "execute_result"
    }
   ],
   "source": [
    "config_yaml"
   ]
  },
  {
   "cell_type": "markdown",
   "metadata": {},
   "source": [
    "### 4. `xml`"
   ]
  },
  {
   "cell_type": "code",
   "execution_count": 40,
   "metadata": {},
   "outputs": [
    {
     "name": "stdout",
     "output_type": "stream",
     "text": [
      "Requirement already satisfied: xml-python in /Users/uyangas/anaconda3/envs/testenv38/lib/python3.8/site-packages (0.4.3)\n",
      "Requirement already satisfied: attrs in /Users/uyangas/anaconda3/envs/testenv38/lib/python3.8/site-packages (from xml-python) (23.2.0)\n"
     ]
    }
   ],
   "source": [
    "!pip install xml-python"
   ]
  },
  {
   "cell_type": "code",
   "execution_count": 59,
   "metadata": {},
   "outputs": [
    {
     "data": {
      "text/plain": [
       "{'data_dir': './MLData',\n",
       " 'model_dir': './MLModel',\n",
       " 'model_config': {'max_depth': 30,\n",
       "  'min_samples_leaf': 2,\n",
       "  'min_samples_split': 3}}"
      ]
     },
     "execution_count": 59,
     "metadata": {},
     "output_type": "execute_result"
    }
   ],
   "source": [
    "config_dict"
   ]
  },
  {
   "cell_type": "code",
   "execution_count": 61,
   "metadata": {},
   "outputs": [],
   "source": [
    "import xml.etree.ElementTree as ET"
   ]
  },
  {
   "cell_type": "code",
   "execution_count": 62,
   "metadata": {},
   "outputs": [],
   "source": [
    "root = ET.Element(\"config\")\n",
    "data_dir = ET.SubElement(root, \"data_dir\")\n",
    "data_dir.text = \"./MLData\"\n",
    "model_dir = ET.SubElement(root, \"model_dir\")\n",
    "model_dir.text = \"./MLModel\"\n",
    "\n",
    "model_config = ET.SubElement(root, \"model_config\")\n",
    "max_depth = ET.SubElement(model_config, \"max_depth\")\n",
    "max_depth.text = \"30\"\n",
    "min_samples_leaf = ET.SubElement(model_config, \"min_samples_leaf\")\n",
    "min_samples_leaf.text = \"2\"\n",
    "min_samples_split = ET.SubElement(model_config, \"min_samples_split\")\n",
    "min_samples_split.text = \"3\"\n",
    "\n",
    "tree = ET.ElementTree(root)\n",
    "\n",
    "tree.write(\"config.xml\", xml_declaration=True, method='xml')"
   ]
  },
  {
   "cell_type": "code",
   "execution_count": 67,
   "metadata": {},
   "outputs": [
    {
     "data": {
      "text/plain": [
       "'./MLData'"
      ]
     },
     "execution_count": 67,
     "metadata": {},
     "output_type": "execute_result"
    }
   ],
   "source": [
    "tree = ET.parse(\"config.xml\")\n",
    "root = tree.getroot()\n",
    "\n",
    "data_dir = root.find(\"data_dir\").text\n",
    "data_dir"
   ]
  },
  {
   "cell_type": "code",
   "execution_count": 68,
   "metadata": {},
   "outputs": [
    {
     "name": "stdout",
     "output_type": "stream",
     "text": [
      "config None\n",
      "data_dir ./MLData\n",
      "model_dir ./MLModel\n",
      "model_config None\n",
      "max_depth 30\n",
      "min_samples_leaf 2\n",
      "min_samples_split 3\n"
     ]
    }
   ],
   "source": [
    "for element in root.iter():\n",
    "    print(element.tag, element.text)"
   ]
  },
  {
   "cell_type": "code",
   "execution_count": null,
   "metadata": {},
   "outputs": [],
   "source": []
  }
 ],
 "metadata": {
  "kernelspec": {
   "display_name": "testenv38",
   "language": "python",
   "name": "python3"
  },
  "language_info": {
   "codemirror_mode": {
    "name": "ipython",
    "version": 3
   },
   "file_extension": ".py",
   "mimetype": "text/x-python",
   "name": "python",
   "nbconvert_exporter": "python",
   "pygments_lexer": "ipython3",
   "version": "3.8.18"
  }
 },
 "nbformat": 4,
 "nbformat_minor": 2
}
